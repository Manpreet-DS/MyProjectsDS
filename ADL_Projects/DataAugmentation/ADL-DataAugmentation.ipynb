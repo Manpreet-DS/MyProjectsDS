{
 "cells": [
  {
   "cell_type": "markdown",
   "id": "77005664-31dc-4117-b393-2cf212edf521",
   "metadata": {},
   "source": [
    "# Data Augmentation"
   ]
  },
  {
   "cell_type": "code",
   "execution_count": 1,
   "id": "1b605ea2-9ea7-47d0-9741-d187f30a01f3",
   "metadata": {},
   "outputs": [],
   "source": [
    "# Data augmentation is used to geneate new training samples from the original ones by applying simple geometric transformations like\n",
    "#  a. Translation\n",
    "#  b. Rotation\n",
    "#  c  Scaling\n",
    "#  d. Sharing\n",
    "#  e. Horizonal or vertical flips"
   ]
  },
  {
   "cell_type": "code",
   "execution_count": 2,
   "id": "f7e4e64c-4e32-4271-ae08-2092dde7289b",
   "metadata": {},
   "outputs": [],
   "source": [
    "import cv2\n",
    "import tensorflow as tf"
   ]
  },
  {
   "cell_type": "code",
   "execution_count": 5,
   "id": "a7382261-084e-41d4-b64a-dd2c69d4ad08",
   "metadata": {},
   "outputs": [
    {
     "data": {
      "text/plain": [
       "(1, 100, 100, 3)"
      ]
     },
     "execution_count": 5,
     "metadata": {},
     "output_type": "execute_result"
    }
   ],
   "source": [
    "#Loading  image\n",
    "import numpy as np\n",
    "from tensorflow.keras.preprocessing.image import load_img\n",
    "from tensorflow.keras.preprocessing.image import img_to_array\n",
    "\n",
    "#Loading the image\n",
    "image = load_img('Lion-Face-HD-Pic.jpg', target_size=(100,100))   # target size is used to scale the image based on the computation power of the machine\n",
    "\n",
    "#Convert the image to numpyArray\n",
    "\n",
    "imageArray = img_to_array(image)\n",
    "#imageArray.shape\n",
    "\n",
    "#Whenever we are planning to do the preprocessing or training, it is expected to have 4-dimensions\n",
    "#(numImages, height(y), width(x), channels)\n",
    "imageArray=np.expand_dims(imageArray, axis=0)\n",
    "\n",
    "imageArray.shape"
   ]
  },
  {
   "cell_type": "code",
   "execution_count": 6,
   "id": "c1c1fb7c-a8ab-4b82-97df-e24386931885",
   "metadata": {},
   "outputs": [],
   "source": [
    "#Data Augmentation \n",
    "from tensorflow.keras.preprocessing.image import ImageDataGenerator\n",
    "\n",
    "augmenter = ImageDataGenerator(rotation_range=30, #Rotation\n",
    "                              zoom_range=0.2, #Zoom\n",
    "                              horizontal_flip=True, # Never do horizontal and vertical flip together\n",
    "                              fill_mode='nearest')"
   ]
  },
  {
   "cell_type": "code",
   "execution_count": 9,
   "id": "20e72789-4aa3-41a0-ab1f-e655d4763808",
   "metadata": {},
   "outputs": [],
   "source": [
    "imageGen = augmenter.flow(imageArray,\n",
    "                         batch_size=1,\n",
    "                         save_to_dir='LionDataset/',    #Ensure directory exists else ram will thro error\n",
    "                         save_prefix = 'lion-',\n",
    "                         save_format = 'jpg') \n",
    "\n",
    "\n",
    "counter = 0\n",
    "\n",
    "for generatedImage in imageGen:\n",
    "    counter += 1\n",
    "    \n",
    "    if counter == 100:\n",
    "        break"
   ]
  },
  {
   "cell_type": "code",
   "execution_count": null,
   "id": "f8ac56b0-bd6b-491c-bfe7-5e59e33b787f",
   "metadata": {},
   "outputs": [],
   "source": []
  },
  {
   "cell_type": "code",
   "execution_count": null,
   "id": "bdd4b204-3802-4eb6-8939-9894cb20e421",
   "metadata": {},
   "outputs": [],
   "source": []
  }
 ],
 "metadata": {
  "kernelspec": {
   "display_name": "Python 3",
   "language": "python",
   "name": "python3"
  },
  "language_info": {
   "codemirror_mode": {
    "name": "ipython",
    "version": 3
   },
   "file_extension": ".py",
   "mimetype": "text/x-python",
   "name": "python",
   "nbconvert_exporter": "python",
   "pygments_lexer": "ipython3",
   "version": "3.8.8"
  }
 },
 "nbformat": 4,
 "nbformat_minor": 5
}
